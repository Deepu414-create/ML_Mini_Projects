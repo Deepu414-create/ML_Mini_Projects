{
 "cells": [
  {
   "cell_type": "code",
   "execution_count": null,
   "id": "ab985ed8",
   "metadata": {},
   "outputs": [],
   "source": [
    "# Name: Student Pass/Fail Predictor\n",
    "\"\"\"This project is a simple Machine Learning classification model that predicts whether a student will pass or fail based on their study hours and marks obtained.\n",
    "Algorithm Used: Logistic Regression (Binary Classification)\n",
    "Dataset: Manually created dataset with study hours, marks\"\"\"\n",
    "\n",
    "import pandas as pd\n",
    "import numpy as np\n",
    "from sklearn.model_selection import train_test_split\n",
    "from sklearn.linear_model import LogisticRegression\n",
    "from sklearn.metrics import accuracy_score, confusion_matrix\n",
    "\n",
    "# Step 1: Create Dataset\n",
    "data = {\n",
    "    \"Hours_Studied\": [1, 2, 3, 4, 5, 6, 7, 8, 9, 10],\n",
    "    \"Marks\": [20, 25, 35, 40, 50, 60, 65, 75, 85, 95],\n",
    "    \"Pass\": [0, 0, 0, 0, 1, 1, 1, 1, 1, 1]  # 0 = Fail, 1 = Pass\n",
    "}\n",
    "\n",
    "df = pd.DataFrame(data)\n",
    "\n",
    "# Step 2: Split features & labels\n",
    "X = df[[\"Hours_Studied\", \"Marks\"]]\n",
    "y = df[\"Pass\"]\n",
    "\n",
    "# Step 3: Train-Test Split\n",
    "X_train, X_test, y_train, y_test = train_test_split(X, y, test_size=0.3, random_state=42)\n",
    "\n",
    "# Step 4: Train Model\n",
    "model = LogisticRegression()\n",
    "model.fit(X_train, y_train)\n",
    "\n",
    "# Step 5: Predictions\n",
    "y_pred = model.predict(X_test)\n",
    "\n",
    "# Step 6: Evaluation\n",
    "print(\"Accuracy:\", accuracy_score(y_test, y_pred))\n",
    "print(\"Confusion Matrix:\\n\", confusion_matrix(y_test, y_pred))\n",
    "\n",
    "# Try with new data\n",
    "new_data = np.array([[6, 55]])  # 6 hours, 55 marks\n",
    "print(\"Prediction (1=Pass, 0=Fail):\", model.predict(new_data))\n"
   ]
  }
 ],
 "metadata": {
  "language_info": {
   "name": "python"
  }
 },
 "nbformat": 4,
 "nbformat_minor": 5
}
